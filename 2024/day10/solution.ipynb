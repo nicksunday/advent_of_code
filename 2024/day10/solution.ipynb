{
 "cells": [
  {
   "cell_type": "code",
   "execution_count": 1,
   "metadata": {},
   "outputs": [],
   "source": [
    "import numpy as np"
   ]
  },
  {
   "cell_type": "code",
   "execution_count": 2,
   "metadata": {},
   "outputs": [],
   "source": [
    "def parse_input(file_name: str = 'example1.input.txt') -> str:\n",
    "    grid = []\n",
    "    with open(file_name, 'r', encoding='utf-8') as fin:\n",
    "        for line in [line.strip() for line in fin if len(line.strip()) > 0]:\n",
    "            grid.append([int(n) for n in line.strip()])\n",
    "    return np.array(grid, dtype=int)"
   ]
  },
  {
   "cell_type": "code",
   "execution_count": 3,
   "metadata": {},
   "outputs": [
    {
     "name": "stdout",
     "output_type": "stream",
     "text": [
      "[[0 1 2 3]\n",
      " [1 2 3 4]\n",
      " [8 7 6 5]\n",
      " [9 8 7 6]]\n"
     ]
    }
   ],
   "source": [
    "grid = parse_input()\n",
    "\n",
    "print(grid)"
   ]
  },
  {
   "cell_type": "code",
   "execution_count": 10,
   "metadata": {},
   "outputs": [
    {
     "name": "stdout",
     "output_type": "stream",
     "text": [
      "[[8 9 0 1 0 1 2 3]\n",
      " [7 8 1 2 1 8 7 4]\n",
      " [8 7 4 3 0 9 6 5]\n",
      " [9 6 5 4 9 8 7 4]\n",
      " [4 5 6 7 8 9 0 3]\n",
      " [3 2 0 1 9 0 1 2]\n",
      " [0 1 3 2 9 8 0 1]\n",
      " [1 0 4 5 6 7 3 2]]\n",
      "0 2\n",
      "0 4\n",
      "2 4\n",
      "4 6\n",
      "5 2\n",
      "5 5\n",
      "6 0\n",
      "6 6\n",
      "7 1\n"
     ]
    }
   ],
   "source": [
    "grid = parse_input('example2.input.txt')\n",
    "print(grid)\n",
    "xs, ys = np.where(grid == 0)\n",
    "for x, y in zip(xs, ys):\n",
    "    print(x, y)"
   ]
  }
 ],
 "metadata": {
  "kernelspec": {
   "display_name": "advent-of-code",
   "language": "python",
   "name": "python3"
  },
  "language_info": {
   "codemirror_mode": {
    "name": "ipython",
    "version": 3
   },
   "file_extension": ".py",
   "mimetype": "text/x-python",
   "name": "python",
   "nbconvert_exporter": "python",
   "pygments_lexer": "ipython3",
   "version": "3.12.7"
  }
 },
 "nbformat": 4,
 "nbformat_minor": 2
}
