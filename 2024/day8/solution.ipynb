{
 "cells": [
  {
   "cell_type": "code",
   "execution_count": 36,
   "metadata": {},
   "outputs": [],
   "source": [
    "import numpy as np"
   ]
  },
  {
   "cell_type": "code",
   "execution_count": 37,
   "metadata": {},
   "outputs": [],
   "source": [
    "def parse_input(file_name: str = \"example1.input.txt\") -> np.array:\n",
    "    arr = []\n",
    "    with open(file_name, 'r', encoding='utf-8') as fin:\n",
    "        for line in [l for l in fin if len(l.strip()) > 0]:\n",
    "            arr.append([c for c in line.strip()])\n",
    "            # arr.insert(0, [c for c in line.strip()])\n",
    "    return np.array(arr)"
   ]
  },
  {
   "cell_type": "code",
   "execution_count": 38,
   "metadata": {},
   "outputs": [
    {
     "name": "stdout",
     "output_type": "stream",
     "text": [
      "[['.' '.' '.' '.' '.' '.' '.' '.' '.' '.' '.' '.']\n",
      " ['.' '.' '.' '.' '.' '.' '.' '.' '0' '.' '.' '.']\n",
      " ['.' '.' '.' '.' '.' '0' '.' '.' '.' '.' '.' '.']\n",
      " ['.' '.' '.' '.' '.' '.' '.' '0' '.' '.' '.' '.']\n",
      " ['.' '.' '.' '.' '0' '.' '.' '.' '.' '.' '.' '.']\n",
      " ['.' '.' '.' '.' '.' '.' 'A' '.' '.' '.' '.' '.']\n",
      " ['.' '.' '.' '.' '.' '.' '.' '.' '.' '.' '.' '.']\n",
      " ['.' '.' '.' '.' '.' '.' '.' '.' '.' '.' '.' '.']\n",
      " ['.' '.' '.' '.' '.' '.' '.' '.' 'A' '.' '.' '.']\n",
      " ['.' '.' '.' '.' '.' '.' '.' '.' '.' 'A' '.' '.']\n",
      " ['.' '.' '.' '.' '.' '.' '.' '.' '.' '.' '.' '.']\n",
      " ['.' '.' '.' '.' '.' '.' '.' '.' '.' '.' '.' '.']]\n"
     ]
    }
   ],
   "source": [
    "map = parse_input()\n",
    "\n",
    "print(map)"
   ]
  },
  {
   "cell_type": "code",
   "execution_count": 39,
   "metadata": {},
   "outputs": [
    {
     "data": {
      "text/plain": [
       "(array(['0', 'A'], dtype='<U1'), array([0, 4]))"
      ]
     },
     "execution_count": 39,
     "metadata": {},
     "output_type": "execute_result"
    }
   ],
   "source": [
    "np.unique(map[map != '.'], return_index=True)"
   ]
  },
  {
   "cell_type": "code",
   "execution_count": 40,
   "metadata": {},
   "outputs": [
    {
     "data": {
      "text/plain": [
       "(12, 12)"
      ]
     },
     "execution_count": 40,
     "metadata": {},
     "output_type": "execute_result"
    }
   ],
   "source": [
    "map.shape"
   ]
  },
  {
   "cell_type": "code",
   "execution_count": 41,
   "metadata": {},
   "outputs": [
    {
     "data": {
      "text/plain": [
       "array([[5, 6],\n",
       "       [8, 8],\n",
       "       [9, 9]])"
      ]
     },
     "execution_count": 41,
     "metadata": {},
     "output_type": "execute_result"
    }
   ],
   "source": [
    "np.argwhere(map == 'A')"
   ]
  },
  {
   "cell_type": "code",
   "execution_count": 48,
   "metadata": {},
   "outputs": [
    {
     "name": "stdout",
     "output_type": "stream",
     "text": [
      "12 12\n",
      "20\n",
      "(4, 9)\n",
      "(3, 7)\n",
      "(5, 1)\n",
      "(2, 5)\n",
      "(1, 3)\n",
      "(0, 11)\n",
      "(7, 7)\n",
      "(5, 6)\n",
      "(8, 8)\n",
      "(2, 4)\n",
      "(11, 10)\n",
      "(2, 10)\n",
      "(1, 8)\n",
      "(7, 0)\n",
      "(3, 2)\n",
      "(4, 4)\n",
      "(9, 9)\n",
      "(0, 6)\n",
      "(10, 10)\n",
      "(6, 3)\n"
     ]
    }
   ],
   "source": [
    "antinodes = set()\n",
    "max_x, max_y = map.shape\n",
    "print(max_x, max_y)\n",
    "for c in np.unique(map[map != '.']):\n",
    "    # print(c)\n",
    "    for a1 in np.argwhere(map == c):\n",
    "        x1, y1 = a1\n",
    "        for a2 in np.argwhere(map == c):\n",
    "            x2, y2 = a2\n",
    "            if tuple((x1, y1)) != tuple((x2, y2)):\n",
    "                if -1 < x1 - (x2 - x1) < max_x and -1 < y1 - (y2 - y1) < max_y:\n",
    "                    # print(c, x1 - abs_x, y1 - abs_y)\n",
    "                    antinodes.add(tuple((x1 - (x2 - x1), y1 - (y2 - y1))))\n",
    "                if -1 < x1 + (x2 - x1) < max_x and -1< y1 + (y2 - y1) < max_y:\n",
    "                    antinodes.add(tuple((x1 + (x2 - x1), y1 + (y2 - y1))))\n",
    "                    # print(c, x1 + abs_x, y1 + abs_y)\n",
    "print(len(antinodes))\n",
    "for a in antinodes: print(a)"
   ]
  }
 ],
 "metadata": {
  "kernelspec": {
   "display_name": "Python 3",
   "language": "python",
   "name": "python3"
  },
  "language_info": {
   "codemirror_mode": {
    "name": "ipython",
    "version": 3
   },
   "file_extension": ".py",
   "mimetype": "text/x-python",
   "name": "python",
   "nbconvert_exporter": "python",
   "pygments_lexer": "ipython3",
   "version": "3.10.12"
  }
 },
 "nbformat": 4,
 "nbformat_minor": 2
}
