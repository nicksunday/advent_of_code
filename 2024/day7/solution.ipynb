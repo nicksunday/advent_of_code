{
 "cells": [
  {
   "cell_type": "code",
   "execution_count": 40,
   "metadata": {},
   "outputs": [],
   "source": [
    "from itertools import product\n",
    "\n",
    "import re\n",
    "\n",
    "import numpy as np"
   ]
  },
  {
   "cell_type": "code",
   "execution_count": 71,
   "metadata": {},
   "outputs": [
    {
     "name": "stdout",
     "output_type": "stream",
     "text": [
      "{'190': array([10, 19]), '3267': array([81, 40, 27]), '83': array([17,  5]), '156': array([15,  6]), '7290': array([ 6,  8,  6, 15]), '161011': array([16, 10, 13]), '192': array([17,  8, 14]), '21037': array([ 9,  7, 18, 13]), '292': array([11,  6, 16, 20])}\n"
     ]
    }
   ],
   "source": [
    "def parse_input(filename: str = \"example.input.txt\") -> dict:\n",
    "    equations = {}\n",
    "    with open(filename, 'r', encoding='utf-8') as fin:\n",
    "        for line in [l for l in fin if len(l.strip()) > 0]:\n",
    "            ans, nums = line.split(':')\n",
    "            equations[ans] = np.array([int(n) for n in nums.strip().split(\" \")])\n",
    "    return equations\n",
    "\n",
    "print(parse_input())"
   ]
  },
  {
   "cell_type": "code",
   "execution_count": 72,
   "metadata": {},
   "outputs": [
    {
     "name": "stdout",
     "output_type": "stream",
     "text": [
      "[10 19]\n"
     ]
    }
   ],
   "source": [
    "equations = parse_input()\n",
    "\n",
    "# print(eval('*'.join(equations['190'])))\n",
    "print(equations['190'])"
   ]
  },
  {
   "cell_type": "code",
   "execution_count": 73,
   "metadata": {},
   "outputs": [],
   "source": [
    "def evaluate_equation(ans: int, nums: np.array) -> bool:\n",
    "    spaces = len(nums) - 1\n",
    "    perms = product(['*', '+'], repeat = spaces)\n",
    "    for perm in perms:\n",
    "        total = int(nums[0])\n",
    "        for op, num in zip(perm, nums[1:]):\n",
    "            total = int(eval(f\"{total}{op}{num}\"))\n",
    "        if total == ans:\n",
    "            return True\n",
    "    return False\n"
   ]
  },
  {
   "cell_type": "code",
   "execution_count": 74,
   "metadata": {},
   "outputs": [
    {
     "name": "stdout",
     "output_type": "stream",
     "text": [
      "3749\n"
     ]
    }
   ],
   "source": [
    "\n",
    "total = 0\n",
    "for ans, nums in parse_input().items():\n",
    "    if evaluate_equation(int(ans), nums):\n",
    "        total += int(ans)\n",
    "print(total)\n"
   ]
  },
  {
   "cell_type": "code",
   "execution_count": 75,
   "metadata": {},
   "outputs": [
    {
     "name": "stdout",
     "output_type": "stream",
     "text": [
      "303876483687\n"
     ]
    }
   ],
   "source": [
    "# Part 1\n",
    "\n",
    "total = 0\n",
    "for ans, nums in parse_input(\"input.txt\").items():\n",
    "    if evaluate_equation(int(ans), nums):\n",
    "        total += int(ans)\n",
    "print(total)"
   ]
  },
  {
   "cell_type": "code",
   "execution_count": 96,
   "metadata": {},
   "outputs": [],
   "source": [
    "def rtl_evaluate_equation(ans: int, nums: np.array) -> bool:\n",
    "    total = ans\n",
    "    last_op = None\n",
    "    for num in reversed(nums):\n",
    "        if total % num == 0:\n",
    "            total //= num\n",
    "            last_op = \"div\"\n",
    "        else:\n",
    "            total -= num\n",
    "            last_op = \"sub\"\n",
    "    if (\n",
    "        (total == 1 and last_op == \"div\")\n",
    "        or\n",
    "        (total == 0 and last_op == \"sub\")\n",
    "    ):\n",
    "        return True\n",
    "    else:\n",
    "        return False"
   ]
  },
  {
   "cell_type": "code",
   "execution_count": 97,
   "metadata": {},
   "outputs": [
    {
     "name": "stdout",
     "output_type": "stream",
     "text": [
      "3749\n"
     ]
    }
   ],
   "source": [
    "\n",
    "total = 0\n",
    "for ans, nums in parse_input().items():\n",
    "    if rtl_evaluate_equation(int(ans), nums):\n",
    "        total += int(ans)\n",
    "print(total)\n"
   ]
  },
  {
   "cell_type": "code",
   "execution_count": 98,
   "metadata": {},
   "outputs": [
    {
     "name": "stdout",
     "output_type": "stream",
     "text": [
      "48304288652\n"
     ]
    }
   ],
   "source": [
    "# Part 1\n",
    "\n",
    "total = 0\n",
    "for ans, nums in parse_input(\"input.txt\").items():\n",
    "    if rtl_evaluate_equation(int(ans), nums):\n",
    "        total += int(ans)\n",
    "print(total)"
   ]
  }
 ],
 "metadata": {
  "kernelspec": {
   "display_name": "Python 3",
   "language": "python",
   "name": "python3"
  },
  "language_info": {
   "codemirror_mode": {
    "name": "ipython",
    "version": 3
   },
   "file_extension": ".py",
   "mimetype": "text/x-python",
   "name": "python",
   "nbconvert_exporter": "python",
   "pygments_lexer": "ipython3",
   "version": "3.10.12"
  }
 },
 "nbformat": 4,
 "nbformat_minor": 2
}
