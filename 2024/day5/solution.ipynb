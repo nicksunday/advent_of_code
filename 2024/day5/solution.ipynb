{
 "cells": [
  {
   "cell_type": "code",
   "execution_count": 14,
   "metadata": {},
   "outputs": [],
   "source": [
    "from collections import defaultdict"
   ]
  },
  {
   "cell_type": "code",
   "execution_count": 15,
   "metadata": {},
   "outputs": [],
   "source": [
    "def parse_input(file_name: str = 'example.input.txt') -> tuple:\n",
    "\n",
    "    before_rules = defaultdict(list)\n",
    "    after_rules = defaultdict(list)\n",
    "    updates = []\n",
    "    \n",
    "    with open(file_name, 'r', encoding='utf-8') as fin:\n",
    "        rules_raw, updates_raw = fin.read().split(\"\\n\\n\")\n",
    "    \n",
    "        for line in rules_raw.split(\"\\n\"):\n",
    "            before, after = line.strip().split(\"|\")\n",
    "            before_rules[int(after)].append(int(before))\n",
    "            after_rules[int(before)].append(int(after))\n",
    "    \n",
    "        for line in updates_raw.split(\"\\n\"):\n",
    "            updates.append([int(page) for page in line.strip().split(\",\")])\n",
    "\n",
    "    return before_rules, after_rules, updates"
   ]
  },
  {
   "cell_type": "code",
   "execution_count": 16,
   "metadata": {},
   "outputs": [
    {
     "name": "stdout",
     "output_type": "stream",
     "text": [
      "53 [47, 75, 61, 97]\n",
      "13 [97, 61, 29, 47, 75, 53]\n",
      "61 [97, 47, 75]\n",
      "47 [97, 75]\n",
      "29 [75, 97, 53, 61, 47]\n",
      "75 [97]\n",
      "47 [53, 13, 61, 29]\n",
      "97 [13, 61, 47, 29, 53, 75]\n",
      "75 [29, 53, 47, 61, 13]\n",
      "61 [13, 53, 29]\n",
      "29 [13]\n",
      "53 [29, 13]\n",
      "[75, 47, 61, 53, 29]\n",
      "[97, 61, 53, 29, 13]\n",
      "[75, 29, 13]\n",
      "[75, 97, 47, 61, 53]\n",
      "[61, 13, 29]\n",
      "[97, 13, 75, 29, 47]\n"
     ]
    }
   ],
   "source": [
    "# Example input\n",
    "before_rules, after_rules, updates = parse_input()\n",
    "for b in before_rules:\n",
    "    print(b, before_rules[b])\n",
    "for a in after_rules:\n",
    "    print(a, after_rules[a])\n",
    "for u in updates:\n",
    "    print(u)"
   ]
  },
  {
   "cell_type": "code",
   "execution_count": 46,
   "metadata": {},
   "outputs": [
    {
     "name": "stdout",
     "output_type": "stream",
     "text": [
      "143\n"
     ]
    }
   ],
   "source": [
    "def solution(updates: list, before_rules: dict, after_rules: dict) -> int:\n",
    "    total = 0\n",
    "    for update in updates:\n",
    "        for idx, page in enumerate(update):\n",
    "            # print(page, \"\\t\\t\", before_rules.get(page), \"\\t\", update[:idx], \"\\t\\t\\t\", after_rules.get(page), \"\\t\", update[idx + 1:])\n",
    "            b_list = update[:idx]\n",
    "            b_rules = before_rules.get(page)\n",
    "            a_list = update[idx + 1:]\n",
    "            a_rules = after_rules.get(page)\n",
    "            broken_rules = False\n",
    "            for b in b_list:\n",
    "                if b_rules and b not in b_rules:\n",
    "                    broken_rules = True\n",
    "                elif a_rules and b in a_rules:\n",
    "                    broken_rules = True\n",
    "            for a in a_list:\n",
    "                if a_rules and a not in a_rules:\n",
    "                    broken_rules = True\n",
    "                elif b_rules and a in b_rules:\n",
    "                    broken_rules = True\n",
    "            if broken_rules:\n",
    "                break\n",
    "        else:\n",
    "            middle = len(update) // 2\n",
    "            total += update[middle]\n",
    "    return total\n",
    "\n",
    "print(solution(updates, before_rules, after_rules))"
   ]
  },
  {
   "cell_type": "code",
   "execution_count": 48,
   "metadata": {},
   "outputs": [
    {
     "name": "stdout",
     "output_type": "stream",
     "text": [
      "5166\n"
     ]
    }
   ],
   "source": [
    "# Part 1\n",
    "before_rules, after_rules, updates = parse_input(\"input.txt\")\n",
    "print(solution(updates, before_rules, after_rules))"
   ]
  },
  {
   "cell_type": "code",
   "execution_count": 67,
   "metadata": {},
   "outputs": [
    {
     "name": "stdout",
     "output_type": "stream",
     "text": [
      "4752\n"
     ]
    }
   ],
   "source": [
    "def parse_updates(updates: list, before_rules: dict, after_rules: dict) -> int:\n",
    "    total = 0\n",
    "    for update in updates:\n",
    "        broken_rules = False\n",
    "        for idx, page in enumerate(update):\n",
    "            # print(page, \"\\t\\t\", before_rules.get(page), \"\\t\", update[:idx], \"\\t\\t\\t\", after_rules.get(page), \"\\t\", update[idx + 1:])\n",
    "            b_list = update[:idx]\n",
    "            b_rules = before_rules.get(page)\n",
    "            a_list = update[idx + 1:]\n",
    "            a_rules = after_rules.get(page)\n",
    "            for b in b_list:\n",
    "                if b_rules and b not in b_rules:\n",
    "                    broken_rules = True\n",
    "                    swap = update.pop(update.index(b))\n",
    "                    update.insert(update.index(page), swap)\n",
    "                if a_rules and b in a_rules:\n",
    "                    broken_rules = True\n",
    "                    swap = update.pop(update.index(b))\n",
    "                    update.insert(update.index(page) + 1, swap)\n",
    "            for a in a_list:\n",
    "                if a_rules and a not in a_rules:\n",
    "                    broken_rules = True\n",
    "                    swap = update.pop(update.index(a))\n",
    "                    update.insert(update.index(page) + 1, swap)\n",
    "                if b_rules and a in b_rules:\n",
    "                    broken_rules = True\n",
    "                    swap = update.pop(update.index(a))\n",
    "                    update.insert(update.index(page), swap)\n",
    "        if broken_rules:\n",
    "            middle = len(update) // 2\n",
    "            total += update[middle]\n",
    "    return total\n",
    "\n",
    "before_rules, after_rules, updates = parse_input(\"input.txt\")\n",
    "# before_rules, after_rules, updates = parse_input(\"example.input.txt\")\n",
    "\n",
    "print(parse_updates(updates, before_rules, after_rules))"
   ]
  }
 ],
 "metadata": {
  "kernelspec": {
   "display_name": "advent-of-code",
   "language": "python",
   "name": "python3"
  },
  "language_info": {
   "codemirror_mode": {
    "name": "ipython",
    "version": 3
   },
   "file_extension": ".py",
   "mimetype": "text/x-python",
   "name": "python",
   "nbconvert_exporter": "python",
   "pygments_lexer": "ipython3",
   "version": "3.12.7"
  }
 },
 "nbformat": 4,
 "nbformat_minor": 2
}
