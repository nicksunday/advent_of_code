{
 "cells": [
  {
   "cell_type": "code",
   "execution_count": 1,
   "metadata": {},
   "outputs": [],
   "source": [
    "import re"
   ]
  },
  {
   "cell_type": "code",
   "execution_count": 2,
   "metadata": {},
   "outputs": [],
   "source": [
    "def parse_input(file_name: str = 'example.input.txt') -> str:\n",
    "    with open(file_name, 'r', encoding='utf-8') as fin:\n",
    "        return fin.read().strip()"
   ]
  },
  {
   "cell_type": "code",
   "execution_count": 3,
   "metadata": {},
   "outputs": [
    {
     "name": "stdout",
     "output_type": "stream",
     "text": [
      "2333133121414131402\n"
     ]
    }
   ],
   "source": [
    "print(parse_input())"
   ]
  },
  {
   "cell_type": "code",
   "execution_count": 4,
   "metadata": {},
   "outputs": [],
   "source": [
    "def convert_string(string: str) -> str:\n",
    "    r = \"\"\n",
    "    empty_space = False\n",
    "    i = 0\n",
    "    for c in string:\n",
    "        if empty_space:\n",
    "            r += \".\" * int(c)\n",
    "            empty_space = False\n",
    "        else:\n",
    "            r += str(i) * int(c)\n",
    "            i += 1\n",
    "            empty_space = True\n",
    "    return r"
   ]
  },
  {
   "cell_type": "code",
   "execution_count": 5,
   "metadata": {},
   "outputs": [],
   "source": [
    "disk_map = parse_input()\n",
    "\n",
    "converted_disk_map = convert_string(disk_map)\n",
    "\n",
    "assert converted_disk_map == \"00...111...2...333.44.5555.6666.777.888899\""
   ]
  },
  {
   "cell_type": "code",
   "execution_count": 6,
   "metadata": {},
   "outputs": [],
   "source": [
    "def defrag(converted_disk_map: str) -> str:\n",
    "    checked = []\n",
    "    r = [ c for c in converted_disk_map ]\n",
    "    i = len(converted_disk_map) - 1\n",
    "    # for idx, c in enumerate(converted_disk_map):\n",
    "    for idx, c in enumerate(r):\n",
    "        if c == \".\" and idx not in checked:\n",
    "            r[idx] = converted_disk_map[i]\n",
    "            r[i] = \".\"\n",
    "            checked.append(idx)\n",
    "            checked.append(i)\n",
    "            i -= 1\n",
    "        elif c != \".\" and idx not in checked:\n",
    "            r[idx] = c\n",
    "            checked.append(idx)\n",
    "        # if re.fullmatch(\"\\\\d+\\\\.+\", \"\".join(r)):\n",
    "        #     break\n",
    "    return \"\".join(r)"
   ]
  },
  {
   "cell_type": "code",
   "execution_count": 7,
   "metadata": {},
   "outputs": [],
   "source": [
    "def compress(converted_disk_map: str) -> str:\n",
    "    # r = [ c for c in converted_disk_map ]\n",
    "    r = []\n",
    "    q = [i for i in reversed([tuple((idx,c)) for idx, c in enumerate(converted_disk_map)])]\n",
    "    queue = [(idx, c) for idx, c in q if c != \".\"]\n",
    "    print(queue)\n",
    "    spaces = len(converted_disk_map) - len(queue)\n",
    "    popped_idxs = []\n",
    "    for idx, c in enumerate(converted_disk_map):\n",
    "        if c == \".\":\n",
    "            pop_idx, num = queue.pop()\n",
    "            r.insert(idx, num)\n",
    "            r.append(\".\")\n",
    "            popped_idxs.append(pop_idx)\n",
    "        elif idx in popped_idxs:\n",
    "            continue\n",
    "        else:\n",
    "            r.insert(idx, c)\n",
    "    return \"\".join(r)"
   ]
  },
  {
   "cell_type": "code",
   "execution_count": 73,
   "metadata": {},
   "outputs": [
    {
     "name": "stdout",
     "output_type": "stream",
     "text": [
      "[(41, '9'), (40, '9'), (39, '8'), (38, '8'), (37, '8'), (36, '8'), (34, '7'), (33, '7'), (32, '7'), (30, '6'), (29, '6'), (28, '6'), (27, '6'), (25, '5'), (24, '5'), (23, '5'), (22, '5'), (20, '4'), (19, '4'), (17, '3'), (16, '3'), (15, '3'), (11, '2'), (7, '1'), (6, '1'), (5, '1'), (1, '0'), (0, '0')]\n",
      "00001.11112.333...4.4455555666657775888899........\n"
     ]
    },
    {
     "ename": "AssertionError",
     "evalue": "",
     "output_type": "error",
     "traceback": [
      "\u001b[0;31m---------------------------------------------------------------------------\u001b[0m",
      "\u001b[0;31mAssertionError\u001b[0m                            Traceback (most recent call last)",
      "\u001b[1;32m/Users/nick/git/advent_of_code/2024/day8/solution.ipynb Cell 8\u001b[0m line \u001b[0;36m5\n\u001b[1;32m      <a href='vscode-notebook-cell:/Users/nick/git/advent_of_code/2024/day8/solution.ipynb#W6sZmlsZQ%3D%3D?line=0'>1</a>\u001b[0m compressed_disk_map \u001b[39m=\u001b[39m compress(converted_disk_map)\n\u001b[1;32m      <a href='vscode-notebook-cell:/Users/nick/git/advent_of_code/2024/day8/solution.ipynb#W6sZmlsZQ%3D%3D?line=2'>3</a>\u001b[0m \u001b[39mprint\u001b[39m(compressed_disk_map)\n\u001b[0;32m----> <a href='vscode-notebook-cell:/Users/nick/git/advent_of_code/2024/day8/solution.ipynb#W6sZmlsZQ%3D%3D?line=4'>5</a>\u001b[0m \u001b[39massert\u001b[39;00m compressed_disk_map \u001b[39m==\u001b[39m \u001b[39m\"\u001b[39m\u001b[39m0099811188827773336446555566..............\u001b[39m\u001b[39m\"\u001b[39m\n",
      "\u001b[0;31mAssertionError\u001b[0m: "
     ]
    }
   ],
   "source": [
    "compressed_disk_map = compress(converted_disk_map)\n",
    "\n",
    "print(compressed_disk_map)\n",
    "\n",
    "assert compressed_disk_map == \"0099811188827773336446555566..............\""
   ]
  }
 ],
 "metadata": {
  "kernelspec": {
   "display_name": "advent-of-code",
   "language": "python",
   "name": "python3"
  },
  "language_info": {
   "codemirror_mode": {
    "name": "ipython",
    "version": 3
   },
   "file_extension": ".py",
   "mimetype": "text/x-python",
   "name": "python",
   "nbconvert_exporter": "python",
   "pygments_lexer": "ipython3",
   "version": "3.12.7"
  }
 },
 "nbformat": 4,
 "nbformat_minor": 2
}
