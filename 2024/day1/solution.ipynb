{
 "cells": [
  {
   "cell_type": "markdown",
   "metadata": {},
   "source": [
    "# Part 1"
   ]
  },
  {
   "cell_type": "code",
   "execution_count": null,
   "metadata": {},
   "outputs": [],
   "source": [
    "left_ids = []\n",
    "right_ids = []\n",
    "with open('input.txt', 'r') as location_ids:\n",
    "    for line in location_ids.readlines():\n",
    "        l, r = line.strip().split()\n",
    "        left_ids.append(int(l))\n",
    "        right_ids.append(int(r))\n",
    "\n",
    "left_ids.sort()\n",
    "right_ids.sort()\n",
    "\n",
    "total = 0\n",
    "\n",
    "for i in range(len(left_ids)):\n",
    "    total += abs(left_ids[i] - right_ids[i])\n",
    "\n",
    "print(f\"Answer {total}\")"
   ]
  },
  {
   "cell_type": "markdown",
   "metadata": {},
   "source": [
    "# Part 2"
   ]
  },
  {
   "cell_type": "code",
   "execution_count": null,
   "metadata": {},
   "outputs": [],
   "source": [
    "from collections import Counter\n",
    "\n",
    "rc = Counter(right_ids)\n",
    "\n",
    "total2 = 0\n",
    "\n",
    "for n in left_ids:\n",
    "    total2 += (n * rc[n])\n",
    "\n",
    "print(f\"Answer: {total2}\")"
   ]
  }
 ],
 "metadata": {
  "kernelspec": {
   "display_name": "Python 3",
   "language": "python",
   "name": "python3"
  },
  "language_info": {
   "codemirror_mode": {
    "name": "ipython",
    "version": 3
   },
   "file_extension": ".py",
   "mimetype": "text/x-python",
   "name": "python",
   "nbconvert_exporter": "python",
   "pygments_lexer": "ipython3",
   "version": "3.10.12"
  }
 },
 "nbformat": 4,
 "nbformat_minor": 2
}
